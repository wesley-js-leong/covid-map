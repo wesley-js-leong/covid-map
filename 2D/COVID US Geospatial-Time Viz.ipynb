{
 "cells": [
  {
   "cell_type": "code",
   "execution_count": 1,
   "metadata": {
    "ExecuteTime": {
     "end_time": "2020-10-08T00:39:17.120139Z",
     "start_time": "2020-10-08T00:39:16.374775Z"
    },
    "scrolled": true
   },
   "outputs": [],
   "source": [
    "\"\"\" Imports \"\"\"\n",
    "import pandas as pd\n",
    "import numpy as np\n",
    "import datetime\n",
    "from datetime import timedelta\n",
    "import geopandas as gpd\n",
    "import matplotlib\n",
    "import matplotlib.pyplot as plt\n",
    "import matplotlib.animation as animation\n",
    "from matplotlib.widgets import Slider, Button, RadioButtons\n",
    "from mpl_toolkits.axes_grid1 import make_axes_locatable\n",
    "\n",
    "matplotlib.rc('font', family='sans-serif') \n",
    "matplotlib.rc('font', serif='Helvetica Neue') \n",
    "matplotlib.rc('text', usetex='false') \n",
    "# matplotlib.rcParams.update({'font.size': 22})\n",
    "%matplotlib qt"
   ]
  },
  {
   "cell_type": "code",
   "execution_count": 8,
   "metadata": {
    "ExecuteTime": {
     "end_time": "2020-10-08T00:41:14.281120Z",
     "start_time": "2020-10-08T00:41:14.275108Z"
    }
   },
   "outputs": [],
   "source": [
    "\"\"\" Functions \"\"\"\n",
    "\n",
    "\"\"\" Quick function to wrangle a date object into the format we need to index from our dataframe\"\"\"\n",
    "def format_date(date):\n",
    "    day = date.day\n",
    "    month = date.month\n",
    "    year = date.year-2000\n",
    "    return '/'.join([str(x) for x in [month, day, year]])"
   ]
  },
  {
   "cell_type": "markdown",
   "metadata": {},
   "source": [
    "## Setup"
   ]
  },
  {
   "cell_type": "code",
   "execution_count": 3,
   "metadata": {
    "ExecuteTime": {
     "end_time": "2020-10-08T00:39:23.819983Z",
     "start_time": "2020-10-08T00:39:21.477195Z"
    },
    "scrolled": true
   },
   "outputs": [],
   "source": [
    "\"\"\" Load the data \"\"\"\n",
    "usa_map = gpd.read_file('misc/cb_2019_us_county_20m.shp')\n",
    "world_data_7DMA = pd.read_csv('daily-covid-cases-7-day.csv')\n",
    "usa_data_7DMA = world_data_7DMA.loc[world_data_7DMA['Code']=='USA']\n",
    "usa_data_7DMA = usa_data_7DMA.reset_index(drop=True)\n",
    "county_data = pd.read_csv('https://usafactsstatic.blob.core.windows.net/public/data/covid-19/covid_confirmed_usafacts.csv')\n",
    "county_populations = pd.read_csv('https://usafactsstatic.blob.core.windows.net/public/data/covid-19/covid_county_population_usafacts.csv')\n",
    "\n",
    "\"\"\" Add in county population data \"\"\"\n",
    "county_data['population'] = county_populations.pop('population')\n",
    "    \n",
    "\"\"\" Couple of data wrangling steps \"\"\"\n",
    "county_data.dropna(inplace=True)\n",
    "usa_map.dropna(inplace=True)\n",
    "usa_map = usa_map.astype({'GEOID':'int64'})"
   ]
  },
  {
   "cell_type": "code",
   "execution_count": 4,
   "metadata": {
    "ExecuteTime": {
     "end_time": "2020-10-08T00:39:29.835775Z",
     "start_time": "2020-10-08T00:39:29.832764Z"
    }
   },
   "outputs": [],
   "source": [
    "# Establish starting date\n",
    "day1 = datetime.date(month=1, day=22, year=2020)"
   ]
  },
  {
   "cell_type": "markdown",
   "metadata": {},
   "source": [
    "## Format the US-wide data to be cleaner to pull from"
   ]
  },
  {
   "cell_type": "code",
   "execution_count": 5,
   "metadata": {
    "ExecuteTime": {
     "end_time": "2020-10-08T00:39:46.674354Z",
     "start_time": "2020-10-08T00:39:46.659367Z"
    },
    "scrolled": true
   },
   "outputs": [
    {
     "name": "stdout",
     "output_type": "stream",
     "text": [
      "1/28/20        0.57143\n",
      "1/29/20        0.57143\n",
      "1/30/20        0.57143\n",
      "1/31/20        0.71429\n",
      "2/1/20         0.71429\n",
      "              ...     \n",
      "10/3/20    42693.57143\n",
      "10/4/20    43449.42857\n",
      "10/5/20    43257.00000\n",
      "10/6/20    44358.00000\n",
      "10/7/20    44364.42857\n",
      "Length: 254, dtype: float64\n"
     ]
    }
   ],
   "source": [
    "start_idx = np.where(usa_data_7DMA['Date']==str(day1+timedelta(6)))[0][0]\n",
    "x = usa_data_7DMA.iloc[start_idx:]['Daily new confirmed cases due to COVID-19 (rolling 7-day average, right-aligned)'].values\n",
    "cols = usa_data_7DMA.iloc[start_idx:]['Date'].values\n",
    "# Reformat the datestrings in cols\n",
    "cols = [format_date(datetime.datetime.strptime(date, \"%Y-%m-%d\")) for date in cols]\n",
    "usa_data_7DMA_new = pd.Series(x, index=cols)\n",
    "# print(usa_data_7DMA_new)"
   ]
  },
  {
   "cell_type": "markdown",
   "metadata": {},
   "source": [
    "## Calculate 7 day moving average for new infections at the county level"
   ]
  },
  {
   "cell_type": "code",
   "execution_count": 6,
   "metadata": {
    "ExecuteTime": {
     "end_time": "2020-10-08T00:40:28.871562Z",
     "start_time": "2020-10-08T00:40:28.654150Z"
    },
    "scrolled": true
   },
   "outputs": [
    {
     "name": "stdout",
     "output_type": "stream",
     "text": [
      "      countyFIPS            County Name State  stateFIPS  population  1/28/20  \\\n",
      "0              0  Statewide Unallocated    AL          1           0      NaN   \n",
      "1           1001         Autauga County    AL          1       55869      0.0   \n",
      "2           1003         Baldwin County    AL          1      223234      0.0   \n",
      "3           1005         Barbour County    AL          1       24686      0.0   \n",
      "4           1007            Bibb County    AL          1       22394      0.0   \n",
      "...          ...                    ...   ...        ...         ...      ...   \n",
      "3190       56037      Sweetwater County    WY         56       42343      0.0   \n",
      "3191       56039           Teton County    WY         56       23464      0.0   \n",
      "3192       56041           Uinta County    WY         56       20226      0.0   \n",
      "3193       56043        Washakie County    WY         56        7805      0.0   \n",
      "3194       56045          Weston County    WY         56        6927      0.0   \n",
      "\n",
      "      1/29/20  1/30/20  1/31/20  2/1/20  ...   9/26/20   9/27/20   9/28/20  \\\n",
      "0         NaN      NaN      NaN     NaN  ...       NaN       NaN       NaN   \n",
      "1         0.0      0.0      0.0     0.0  ...  0.018922  0.020967  0.018155   \n",
      "2         0.0      0.0      0.0     0.0  ...  0.026622  0.028094  0.029693   \n",
      "3         0.0      0.0      0.0     0.0  ...  0.027199  0.027199  0.021990   \n",
      "4         0.0      0.0      0.0     0.0  ...  0.014034  0.013396  0.014034   \n",
      "...       ...      ...      ...     ...  ...       ...       ...       ...   \n",
      "3190      0.0      0.0      0.0     0.0  ...  0.003036  0.003711  0.003711   \n",
      "3191      0.0      0.0      0.0     0.0  ...  0.023136  0.030442  0.032877   \n",
      "3192      0.0      0.0      0.0     0.0  ...  0.011301  0.012007  0.010595   \n",
      "3193      0.0      0.0      0.0     0.0  ...  0.001830  0.003661  0.003661   \n",
      "3194      0.0      0.0      0.0     0.0  ...  0.026810  0.026810  0.022686   \n",
      "\n",
      "       9/29/20   9/30/20   10/1/20   10/2/20   10/3/20   10/4/20   10/5/20  \n",
      "0          NaN      -inf       NaN       NaN       NaN       NaN       NaN  \n",
      "1     0.018410  0.019433  0.010484  0.010484  0.011507  0.010995  0.011251  \n",
      "2     0.029757  0.031933  0.034621  0.035005  0.033405  0.031037  0.030653  \n",
      "3     0.020254  0.026041  0.014467  0.011574  0.020833  0.020254  0.020254  \n",
      "4     0.012759  0.016586  0.012759  0.013396  0.014034  0.018500  0.018500  \n",
      "...        ...       ...       ...       ...       ...       ...       ...  \n",
      "3190  0.003374  0.003711  0.003374  0.004386  0.007760  0.009109  0.009109  \n",
      "3191  0.026180  0.029224  0.035921  0.037139  0.029224  0.034095  0.039574  \n",
      "3192  0.008476  0.006357  0.005650  0.005650  0.004944  0.004238  0.007769  \n",
      "3193  0.005491  0.005491  0.003661  0.005491  0.005491  0.007321  0.007321  \n",
      "3194  0.024748  0.024748  0.008249  0.006187  0.010312  0.012374  0.014436  \n",
      "\n",
      "[3195 rows x 257 columns]\n"
     ]
    }
   ],
   "source": [
    "county_data_7DMA = county_data[['countyFIPS','County Name','State','stateFIPS','population']].copy()\n",
    "days_since_day1 = (datetime.date.today()-day1).days\n",
    "for ii in range(days_since_day1 - 7):\n",
    "    week_start = format_date(day1 + timedelta(ii))\n",
    "    week_end = format_date(day1 + timedelta(ii + 6))\n",
    "    avg = (county_data[week_end] - county_data[week_start])/7\n",
    "    pct = avg/county_data['population'] * 100\n",
    "    county_data_7DMA[week_end] = pct\n",
    "# print(county_data_7DMA)"
   ]
  },
  {
   "cell_type": "markdown",
   "metadata": {},
   "source": [
    "## Merge county data with the geodataframe using outer join "
   ]
  },
  {
   "cell_type": "code",
   "execution_count": 7,
   "metadata": {
    "ExecuteTime": {
     "end_time": "2020-10-08T00:40:43.591873Z",
     "start_time": "2020-10-08T00:40:43.553950Z"
    }
   },
   "outputs": [
    {
     "name": "stdout",
     "output_type": "stream",
     "text": [
      "Combined dataframe shape:  (3142, 267)\n"
     ]
    }
   ],
   "source": [
    "combined = usa_map.merge(county_data_7DMA, how='outer', left_on='GEOID', right_on='countyFIPS')\n",
    "combined = combined.dropna()\n",
    "# Scale the map y values to look nicer on plot\n",
    "# combined.geometry = combined.geometry.scale(xfact=1., yfact=1., zfact=1.0, origin=(0, 0))\n",
    "print('Combined dataframe shape: ', combined.shape)"
   ]
  },
  {
   "cell_type": "markdown",
   "metadata": {},
   "source": [
    "## Plots"
   ]
  },
  {
   "cell_type": "code",
   "execution_count": 9,
   "metadata": {
    "ExecuteTime": {
     "end_time": "2020-10-08T00:41:27.564669Z",
     "start_time": "2020-10-08T00:41:27.558689Z"
    }
   },
   "outputs": [],
   "source": [
    "# Get xticks for months to be displayed\n",
    "dates = pd.date_range(day1, datetime.date.today())\n",
    "dates = dates.month_name().tolist()\n",
    "months, month_idxes = np.unique(dates, return_index=True)\n",
    "month_idxes = np.delete(month_idxes, np.where(months=='January'))\n",
    "months = np.delete(months, np.where(months=='January'))"
   ]
  },
  {
   "cell_type": "code",
   "execution_count": 33,
   "metadata": {
    "ExecuteTime": {
     "end_time": "2020-10-08T01:03:23.952628Z",
     "start_time": "2020-10-08T01:03:23.945619Z"
    }
   },
   "outputs": [],
   "source": [
    "def update_map(n_days):\n",
    "    new_date = day1 + timedelta(n_days)\n",
    "    # Plot the geomap\n",
    "    combined.plot(column=format_date(new_date), \n",
    "                  edgecolor=edgecolor, linewidth=linewidth,\n",
    "                  legend_kwds=dict(label='% of county population'),\n",
    "                  legend=True, ax=ax, cax=cax,\n",
    "                  cmap=cmap, vmin=vmin, vmax=vmax)\n",
    "    ax.set_title(new_date)\n",
    "    \n",
    "    y = usa_data_7DMA_new[format_date(day1):format_date(new_date)]\n",
    "    y_max = max(usa_data_7DMA_new)+5000\n",
    "    x_max = len(usa_data_7DMA_new)\n",
    "    \n",
    "    bax.cla()\n",
    "    draw_lineplot(bax, y, y_max, x_max, x_ticks=month_idxes, x_ticklabels=months)\n",
    "    \n",
    "def draw_lineplot(ax, y, y_max, x_max, x_ticks, x_ticklabels):\n",
    "    \n",
    "    bax.set_ylabel('Nation-wide new COVID-19 cases (7-day MA)')\n",
    "    bax.set_ylim([0, y_max])\n",
    "    bax.set_xlim([0, x_max])\n",
    "    bax.set_xticks(x_ticks)\n",
    "    bax.set_xticklabels(x_ticklabels)\n",
    "    bax.plot(y, color='purple')"
   ]
  },
  {
   "cell_type": "code",
   "execution_count": 34,
   "metadata": {
    "ExecuteTime": {
     "end_time": "2020-10-08T01:03:36.424626Z",
     "start_time": "2020-10-08T01:03:35.780350Z"
    },
    "scrolled": true
   },
   "outputs": [],
   "source": [
    "\"\"\" Interactive US Map using sliderbar \"\"\"\n",
    "# Set the new day 1\n",
    "day1 = datetime.date(month=1, day=28, year=2020)\n",
    "\n",
    "# Set up the figure\n",
    "# Use these values for raw %\n",
    "vmin = -0.02 # The % of population infected that corresponds to minimum (obviously, 0)\n",
    "vmax = 0.1 # The % of population infected that corresponds to maximum on colorbar (\n",
    "             # As of 6/10/2020, about 2% of data points go above this value)\n",
    "    \n",
    "cmap = 'CMRmap'\n",
    "cmap = 'inferno'\n",
    "# cmap = 'BuPu'\n",
    "# cmap = 'PuRd'\n",
    "    \n",
    "linewidth = 0.3\n",
    "edgecolor = '#383838'    \n",
    "_slider = 1\n",
    "\n",
    "# fig, ax = plt.subplots(1,1, figsize=(16,9), tight_layout=True) \n",
    "fig = plt.figure(figsize=(14, 9))\n",
    "ax = fig.add_axes([0, .4, .9, .5])\n",
    "# Format the colorbar\n",
    "divider = make_axes_locatable(ax)\n",
    "cax = divider.append_axes(\"right\", size=\"1.5%\", pad=-1.5)\n",
    "\n",
    "# Plot the geomap\n",
    "combined.plot(column=format_date(day1+timedelta(1)), \n",
    "              figsize=(16, 9),\n",
    "              edgecolor=edgecolor, linewidth=linewidth,\n",
    "              legend_kwds=dict(label='% of county population'),\n",
    "              legend=True, ax=ax, cax=cax,\n",
    "              cmap=cmap, vmin=vmin, vmax=vmax)\n",
    "ax.set_xlim([-130, -65])\n",
    "ax.set_ylim([24, 50])\n",
    "ax.set_title(day1+timedelta(1))\n",
    "\n",
    "ax.axes.xaxis.set_visible(False)\n",
    "ax.axes.yaxis.set_visible(False)\n",
    "ax.axis('off')\n",
    "\n",
    "# Add the bottom lineplot\n",
    "bax = fig.add_axes([.25, .1, .6, 0.25])\n",
    "y = usa_data_7DMA_new[format_date(day1):format_date(day1)]\n",
    "y_max = max(usa_data_7DMA_new)+5000\n",
    "x_max = len(usa_data_7DMA_new)\n",
    "draw_lineplot(bax, y, y_max, x_max, x_ticks=month_idxes, x_ticklabels=months)\n",
    "\n",
    "if _slider:\n",
    "    \"\"\" Set up the slider \"\"\"\n",
    "    days_since_first_day = (datetime.date.today()-day1).days\n",
    "\n",
    "    axslider = plt.gcf()\n",
    "    axslider = plt.axes([0.25, 0.02, 0.6, 0.03], facecolor='#ffffff')\n",
    "    # axslider = divider.append_axes('bottom', size=\"2%\", pad=0.5)\n",
    "    slider = Slider(axslider, 'Days', valmin=1, valmax=days_since_first_day, \n",
    "                   valinit=1, valfmt='%i', valstep=1,\n",
    "                   # Rectangle properties\n",
    "                   facecolor='white', edgecolor='black')\n",
    "\n",
    "    slider.on_changed(update_map)\n",
    "\n",
    "fig.suptitle('Daily new COVID-19 cases by county (7-day MA)')\n",
    "plt.show()"
   ]
  },
  {
   "cell_type": "code",
   "execution_count": 40,
   "metadata": {
    "ExecuteTime": {
     "end_time": "2020-10-08T01:30:48.967351Z",
     "start_time": "2020-10-08T01:27:00.518814Z"
    },
    "scrolled": true
   },
   "outputs": [
    {
     "ename": "KeyError",
     "evalue": "'10/6/20'",
     "output_type": "error",
     "traceback": [
      "\u001b[1;31m---------------------------------------------------------------------------\u001b[0m",
      "\u001b[1;31mKeyError\u001b[0m                                  Traceback (most recent call last)",
      "\u001b[1;32mc:\\users\\wesley\\anaconda2\\envs\\python3\\lib\\site-packages\\pandas\\core\\indexes\\base.py\u001b[0m in \u001b[0;36mget_loc\u001b[1;34m(self, key, method, tolerance)\u001b[0m\n\u001b[0;32m   2645\u001b[0m             \u001b[1;32mtry\u001b[0m\u001b[1;33m:\u001b[0m\u001b[1;33m\u001b[0m\u001b[1;33m\u001b[0m\u001b[0m\n\u001b[1;32m-> 2646\u001b[1;33m                 \u001b[1;32mreturn\u001b[0m \u001b[0mself\u001b[0m\u001b[1;33m.\u001b[0m\u001b[0m_engine\u001b[0m\u001b[1;33m.\u001b[0m\u001b[0mget_loc\u001b[0m\u001b[1;33m(\u001b[0m\u001b[0mkey\u001b[0m\u001b[1;33m)\u001b[0m\u001b[1;33m\u001b[0m\u001b[1;33m\u001b[0m\u001b[0m\n\u001b[0m\u001b[0;32m   2647\u001b[0m             \u001b[1;32mexcept\u001b[0m \u001b[0mKeyError\u001b[0m\u001b[1;33m:\u001b[0m\u001b[1;33m\u001b[0m\u001b[1;33m\u001b[0m\u001b[0m\n",
      "\u001b[1;32mpandas\\_libs\\index.pyx\u001b[0m in \u001b[0;36mpandas._libs.index.IndexEngine.get_loc\u001b[1;34m()\u001b[0m\n",
      "\u001b[1;32mpandas\\_libs\\index.pyx\u001b[0m in \u001b[0;36mpandas._libs.index.IndexEngine.get_loc\u001b[1;34m()\u001b[0m\n",
      "\u001b[1;32mpandas\\_libs\\hashtable_class_helper.pxi\u001b[0m in \u001b[0;36mpandas._libs.hashtable.PyObjectHashTable.get_item\u001b[1;34m()\u001b[0m\n",
      "\u001b[1;32mpandas\\_libs\\hashtable_class_helper.pxi\u001b[0m in \u001b[0;36mpandas._libs.hashtable.PyObjectHashTable.get_item\u001b[1;34m()\u001b[0m\n",
      "\u001b[1;31mKeyError\u001b[0m: '10/6/20'",
      "\nDuring handling of the above exception, another exception occurred:\n",
      "\u001b[1;31mKeyError\u001b[0m                                  Traceback (most recent call last)",
      "\u001b[1;32m<ipython-input-40-aea5ed3fd368>\u001b[0m in \u001b[0;36m<module>\u001b[1;34m\u001b[0m\n\u001b[0;32m     25\u001b[0m                   \u001b[0mlegend_kwds\u001b[0m\u001b[1;33m=\u001b[0m\u001b[0mdict\u001b[0m\u001b[1;33m(\u001b[0m\u001b[0mlabel\u001b[0m\u001b[1;33m=\u001b[0m\u001b[1;34m'% of county population'\u001b[0m\u001b[1;33m)\u001b[0m\u001b[1;33m,\u001b[0m\u001b[1;33m\u001b[0m\u001b[1;33m\u001b[0m\u001b[0m\n\u001b[0;32m     26\u001b[0m                   \u001b[0mlegend\u001b[0m\u001b[1;33m=\u001b[0m\u001b[1;32mTrue\u001b[0m\u001b[1;33m,\u001b[0m \u001b[0max\u001b[0m\u001b[1;33m=\u001b[0m\u001b[0max\u001b[0m\u001b[1;33m,\u001b[0m \u001b[0mcax\u001b[0m\u001b[1;33m=\u001b[0m\u001b[0mcax\u001b[0m\u001b[1;33m,\u001b[0m\u001b[1;33m\u001b[0m\u001b[1;33m\u001b[0m\u001b[0m\n\u001b[1;32m---> 27\u001b[1;33m                   cmap=cmap, vmin=vmin, vmax=vmax)\n\u001b[0m\u001b[0;32m     28\u001b[0m     \u001b[0max\u001b[0m\u001b[1;33m.\u001b[0m\u001b[0mset_xlim\u001b[0m\u001b[1;33m(\u001b[0m\u001b[1;33m[\u001b[0m\u001b[1;33m-\u001b[0m\u001b[1;36m130\u001b[0m\u001b[1;33m,\u001b[0m \u001b[1;33m-\u001b[0m\u001b[1;36m65\u001b[0m\u001b[1;33m]\u001b[0m\u001b[1;33m)\u001b[0m\u001b[1;33m\u001b[0m\u001b[1;33m\u001b[0m\u001b[0m\n\u001b[0;32m     29\u001b[0m     \u001b[0max\u001b[0m\u001b[1;33m.\u001b[0m\u001b[0mset_ylim\u001b[0m\u001b[1;33m(\u001b[0m\u001b[1;33m[\u001b[0m\u001b[1;36m24\u001b[0m\u001b[1;33m,\u001b[0m \u001b[1;36m50\u001b[0m\u001b[1;33m]\u001b[0m\u001b[1;33m)\u001b[0m\u001b[1;33m\u001b[0m\u001b[1;33m\u001b[0m\u001b[0m\n",
      "\u001b[1;32mc:\\users\\wesley\\anaconda2\\envs\\python3\\lib\\site-packages\\geopandas\\geodataframe.py\u001b[0m in \u001b[0;36mplot\u001b[1;34m(self, *args, **kwargs)\u001b[0m\n\u001b[0;32m    919\u001b[0m         \u001b[1;32mfrom\u001b[0m \u001b[0mthere\u001b[0m\u001b[1;33m.\u001b[0m\u001b[1;33m\u001b[0m\u001b[1;33m\u001b[0m\u001b[0m\n\u001b[0;32m    920\u001b[0m         \"\"\"\n\u001b[1;32m--> 921\u001b[1;33m         \u001b[1;32mreturn\u001b[0m \u001b[0mplot_dataframe\u001b[0m\u001b[1;33m(\u001b[0m\u001b[0mself\u001b[0m\u001b[1;33m,\u001b[0m \u001b[1;33m*\u001b[0m\u001b[0margs\u001b[0m\u001b[1;33m,\u001b[0m \u001b[1;33m**\u001b[0m\u001b[0mkwargs\u001b[0m\u001b[1;33m)\u001b[0m\u001b[1;33m\u001b[0m\u001b[1;33m\u001b[0m\u001b[0m\n\u001b[0m\u001b[0;32m    922\u001b[0m \u001b[1;33m\u001b[0m\u001b[0m\n\u001b[0;32m    923\u001b[0m     \u001b[0mplot\u001b[0m\u001b[1;33m.\u001b[0m\u001b[0m__doc__\u001b[0m \u001b[1;33m=\u001b[0m \u001b[0mplot_dataframe\u001b[0m\u001b[1;33m.\u001b[0m\u001b[0m__doc__\u001b[0m\u001b[1;33m\u001b[0m\u001b[1;33m\u001b[0m\u001b[0m\n",
      "\u001b[1;32mc:\\users\\wesley\\anaconda2\\envs\\python3\\lib\\site-packages\\geopandas\\plotting.py\u001b[0m in \u001b[0;36mplot_dataframe\u001b[1;34m(df, column, cmap, color, ax, cax, categorical, legend, scheme, k, vmin, vmax, markersize, figsize, legend_kwds, categories, classification_kwds, missing_kwds, aspect, **style_kwds)\u001b[0m\n\u001b[0;32m    633\u001b[0m             \u001b[0mvalues\u001b[0m \u001b[1;33m=\u001b[0m \u001b[0mcolumn\u001b[0m\u001b[1;33m\u001b[0m\u001b[1;33m\u001b[0m\u001b[0m\n\u001b[0;32m    634\u001b[0m     \u001b[1;32melse\u001b[0m\u001b[1;33m:\u001b[0m\u001b[1;33m\u001b[0m\u001b[1;33m\u001b[0m\u001b[0m\n\u001b[1;32m--> 635\u001b[1;33m         \u001b[0mvalues\u001b[0m \u001b[1;33m=\u001b[0m \u001b[0mdf\u001b[0m\u001b[1;33m[\u001b[0m\u001b[0mcolumn\u001b[0m\u001b[1;33m]\u001b[0m\u001b[1;33m\u001b[0m\u001b[1;33m\u001b[0m\u001b[0m\n\u001b[0m\u001b[0;32m    636\u001b[0m \u001b[1;33m\u001b[0m\u001b[0m\n\u001b[0;32m    637\u001b[0m     \u001b[1;32mif\u001b[0m \u001b[0mpd\u001b[0m\u001b[1;33m.\u001b[0m\u001b[0mapi\u001b[0m\u001b[1;33m.\u001b[0m\u001b[0mtypes\u001b[0m\u001b[1;33m.\u001b[0m\u001b[0mis_categorical_dtype\u001b[0m\u001b[1;33m(\u001b[0m\u001b[0mvalues\u001b[0m\u001b[1;33m.\u001b[0m\u001b[0mdtype\u001b[0m\u001b[1;33m)\u001b[0m\u001b[1;33m:\u001b[0m\u001b[1;33m\u001b[0m\u001b[1;33m\u001b[0m\u001b[0m\n",
      "\u001b[1;32mc:\\users\\wesley\\anaconda2\\envs\\python3\\lib\\site-packages\\geopandas\\geodataframe.py\u001b[0m in \u001b[0;36m__getitem__\u001b[1;34m(self, key)\u001b[0m\n\u001b[0;32m    826\u001b[0m         \u001b[0mGeoDataFrame\u001b[0m\u001b[1;33m.\u001b[0m\u001b[1;33m\u001b[0m\u001b[1;33m\u001b[0m\u001b[0m\n\u001b[0;32m    827\u001b[0m         \"\"\"\n\u001b[1;32m--> 828\u001b[1;33m         \u001b[0mresult\u001b[0m \u001b[1;33m=\u001b[0m \u001b[0msuper\u001b[0m\u001b[1;33m(\u001b[0m\u001b[0mGeoDataFrame\u001b[0m\u001b[1;33m,\u001b[0m \u001b[0mself\u001b[0m\u001b[1;33m)\u001b[0m\u001b[1;33m.\u001b[0m\u001b[0m__getitem__\u001b[0m\u001b[1;33m(\u001b[0m\u001b[0mkey\u001b[0m\u001b[1;33m)\u001b[0m\u001b[1;33m\u001b[0m\u001b[1;33m\u001b[0m\u001b[0m\n\u001b[0m\u001b[0;32m    829\u001b[0m         \u001b[0mgeo_col\u001b[0m \u001b[1;33m=\u001b[0m \u001b[0mself\u001b[0m\u001b[1;33m.\u001b[0m\u001b[0m_geometry_column_name\u001b[0m\u001b[1;33m\u001b[0m\u001b[1;33m\u001b[0m\u001b[0m\n\u001b[0;32m    830\u001b[0m         \u001b[1;32mif\u001b[0m \u001b[0misinstance\u001b[0m\u001b[1;33m(\u001b[0m\u001b[0mresult\u001b[0m\u001b[1;33m,\u001b[0m \u001b[0mSeries\u001b[0m\u001b[1;33m)\u001b[0m \u001b[1;32mand\u001b[0m \u001b[0misinstance\u001b[0m\u001b[1;33m(\u001b[0m\u001b[0mresult\u001b[0m\u001b[1;33m.\u001b[0m\u001b[0mdtype\u001b[0m\u001b[1;33m,\u001b[0m \u001b[0mGeometryDtype\u001b[0m\u001b[1;33m)\u001b[0m\u001b[1;33m:\u001b[0m\u001b[1;33m\u001b[0m\u001b[1;33m\u001b[0m\u001b[0m\n",
      "\u001b[1;32mc:\\users\\wesley\\anaconda2\\envs\\python3\\lib\\site-packages\\pandas\\core\\frame.py\u001b[0m in \u001b[0;36m__getitem__\u001b[1;34m(self, key)\u001b[0m\n\u001b[0;32m   2798\u001b[0m             \u001b[1;32mif\u001b[0m \u001b[0mself\u001b[0m\u001b[1;33m.\u001b[0m\u001b[0mcolumns\u001b[0m\u001b[1;33m.\u001b[0m\u001b[0mnlevels\u001b[0m \u001b[1;33m>\u001b[0m \u001b[1;36m1\u001b[0m\u001b[1;33m:\u001b[0m\u001b[1;33m\u001b[0m\u001b[1;33m\u001b[0m\u001b[0m\n\u001b[0;32m   2799\u001b[0m                 \u001b[1;32mreturn\u001b[0m \u001b[0mself\u001b[0m\u001b[1;33m.\u001b[0m\u001b[0m_getitem_multilevel\u001b[0m\u001b[1;33m(\u001b[0m\u001b[0mkey\u001b[0m\u001b[1;33m)\u001b[0m\u001b[1;33m\u001b[0m\u001b[1;33m\u001b[0m\u001b[0m\n\u001b[1;32m-> 2800\u001b[1;33m             \u001b[0mindexer\u001b[0m \u001b[1;33m=\u001b[0m \u001b[0mself\u001b[0m\u001b[1;33m.\u001b[0m\u001b[0mcolumns\u001b[0m\u001b[1;33m.\u001b[0m\u001b[0mget_loc\u001b[0m\u001b[1;33m(\u001b[0m\u001b[0mkey\u001b[0m\u001b[1;33m)\u001b[0m\u001b[1;33m\u001b[0m\u001b[1;33m\u001b[0m\u001b[0m\n\u001b[0m\u001b[0;32m   2801\u001b[0m             \u001b[1;32mif\u001b[0m \u001b[0mis_integer\u001b[0m\u001b[1;33m(\u001b[0m\u001b[0mindexer\u001b[0m\u001b[1;33m)\u001b[0m\u001b[1;33m:\u001b[0m\u001b[1;33m\u001b[0m\u001b[1;33m\u001b[0m\u001b[0m\n\u001b[0;32m   2802\u001b[0m                 \u001b[0mindexer\u001b[0m \u001b[1;33m=\u001b[0m \u001b[1;33m[\u001b[0m\u001b[0mindexer\u001b[0m\u001b[1;33m]\u001b[0m\u001b[1;33m\u001b[0m\u001b[1;33m\u001b[0m\u001b[0m\n",
      "\u001b[1;32mc:\\users\\wesley\\anaconda2\\envs\\python3\\lib\\site-packages\\pandas\\core\\indexes\\base.py\u001b[0m in \u001b[0;36mget_loc\u001b[1;34m(self, key, method, tolerance)\u001b[0m\n\u001b[0;32m   2646\u001b[0m                 \u001b[1;32mreturn\u001b[0m \u001b[0mself\u001b[0m\u001b[1;33m.\u001b[0m\u001b[0m_engine\u001b[0m\u001b[1;33m.\u001b[0m\u001b[0mget_loc\u001b[0m\u001b[1;33m(\u001b[0m\u001b[0mkey\u001b[0m\u001b[1;33m)\u001b[0m\u001b[1;33m\u001b[0m\u001b[1;33m\u001b[0m\u001b[0m\n\u001b[0;32m   2647\u001b[0m             \u001b[1;32mexcept\u001b[0m \u001b[0mKeyError\u001b[0m\u001b[1;33m:\u001b[0m\u001b[1;33m\u001b[0m\u001b[1;33m\u001b[0m\u001b[0m\n\u001b[1;32m-> 2648\u001b[1;33m                 \u001b[1;32mreturn\u001b[0m \u001b[0mself\u001b[0m\u001b[1;33m.\u001b[0m\u001b[0m_engine\u001b[0m\u001b[1;33m.\u001b[0m\u001b[0mget_loc\u001b[0m\u001b[1;33m(\u001b[0m\u001b[0mself\u001b[0m\u001b[1;33m.\u001b[0m\u001b[0m_maybe_cast_indexer\u001b[0m\u001b[1;33m(\u001b[0m\u001b[0mkey\u001b[0m\u001b[1;33m)\u001b[0m\u001b[1;33m)\u001b[0m\u001b[1;33m\u001b[0m\u001b[1;33m\u001b[0m\u001b[0m\n\u001b[0m\u001b[0;32m   2649\u001b[0m         \u001b[0mindexer\u001b[0m \u001b[1;33m=\u001b[0m \u001b[0mself\u001b[0m\u001b[1;33m.\u001b[0m\u001b[0mget_indexer\u001b[0m\u001b[1;33m(\u001b[0m\u001b[1;33m[\u001b[0m\u001b[0mkey\u001b[0m\u001b[1;33m]\u001b[0m\u001b[1;33m,\u001b[0m \u001b[0mmethod\u001b[0m\u001b[1;33m=\u001b[0m\u001b[0mmethod\u001b[0m\u001b[1;33m,\u001b[0m \u001b[0mtolerance\u001b[0m\u001b[1;33m=\u001b[0m\u001b[0mtolerance\u001b[0m\u001b[1;33m)\u001b[0m\u001b[1;33m\u001b[0m\u001b[1;33m\u001b[0m\u001b[0m\n\u001b[0;32m   2650\u001b[0m         \u001b[1;32mif\u001b[0m \u001b[0mindexer\u001b[0m\u001b[1;33m.\u001b[0m\u001b[0mndim\u001b[0m \u001b[1;33m>\u001b[0m \u001b[1;36m1\u001b[0m \u001b[1;32mor\u001b[0m \u001b[0mindexer\u001b[0m\u001b[1;33m.\u001b[0m\u001b[0msize\u001b[0m \u001b[1;33m>\u001b[0m \u001b[1;36m1\u001b[0m\u001b[1;33m:\u001b[0m\u001b[1;33m\u001b[0m\u001b[1;33m\u001b[0m\u001b[0m\n",
      "\u001b[1;32mpandas\\_libs\\index.pyx\u001b[0m in \u001b[0;36mpandas._libs.index.IndexEngine.get_loc\u001b[1;34m()\u001b[0m\n",
      "\u001b[1;32mpandas\\_libs\\index.pyx\u001b[0m in \u001b[0;36mpandas._libs.index.IndexEngine.get_loc\u001b[1;34m()\u001b[0m\n",
      "\u001b[1;32mpandas\\_libs\\hashtable_class_helper.pxi\u001b[0m in \u001b[0;36mpandas._libs.hashtable.PyObjectHashTable.get_item\u001b[1;34m()\u001b[0m\n",
      "\u001b[1;32mpandas\\_libs\\hashtable_class_helper.pxi\u001b[0m in \u001b[0;36mpandas._libs.hashtable.PyObjectHashTable.get_item\u001b[1;34m()\u001b[0m\n",
      "\u001b[1;31mKeyError\u001b[0m: '10/6/20'"
     ]
    }
   ],
   "source": [
    "\"\"\" Save individual images to be animated \"\"\"\n",
    "# Set the new day 1\n",
    "day1 = datetime.date(month=1, day=28, year=2020)\n",
    "\n",
    "days_since_first_day = (datetime.date.today()-day1).days\n",
    "\n",
    "linewidth = 0.3\n",
    "edgecolor = '#383838'\n",
    "\n",
    "\"\"\" Loop to save images\"\"\"\n",
    "for n_days in np.arange(1, days_since_first_day):\n",
    "# for n_days in range(5):\n",
    "    new_date = day1 + timedelta(int(n_days))\n",
    "    \n",
    "    # fig, ax = plt.subplots(1,1, figsize=(16,9), tight_layout=True) \n",
    "    fig = plt.figure(figsize=(14, 9))\n",
    "    ax = fig.add_axes([0, .4, .9, .5])\n",
    "    # Format the colorbar\n",
    "    divider = make_axes_locatable(ax)\n",
    "    cax = divider.append_axes(\"right\", size=\"1.5%\", pad=-1.5)\n",
    "\n",
    "    # Plot the geomap\n",
    "    combined.plot(column=format_date(new_date), \n",
    "                  edgecolor=edgecolor, linewidth=linewidth,\n",
    "                  legend_kwds=dict(label='% of county population'),\n",
    "                  legend=True, ax=ax, cax=cax,\n",
    "                  cmap=cmap, vmin=vmin, vmax=vmax)\n",
    "    ax.set_xlim([-130, -65])\n",
    "    ax.set_ylim([24, 50])\n",
    "    ax.set_title(new_date)\n",
    "\n",
    "    ax.axes.xaxis.set_visible(False)\n",
    "    ax.axes.yaxis.set_visible(False)\n",
    "    ax.axis('off')\n",
    "\n",
    "    # Add the bottom lineplot\n",
    "    bax = fig.add_axes([.25, .1, .6, 0.25])\n",
    "    y = usa_data_7DMA_new[format_date(day1):format_date(new_date)]\n",
    "    y_max = max(usa_data_7DMA_new)+5000\n",
    "    x_max = len(usa_data_7DMA_new)\n",
    "    draw_lineplot(bax, y, y_max, x_max, x_ticks=month_idxes, x_ticklabels=months)\n",
    "    \n",
    "    fig.suptitle('Daily new COVID-19 cases by county (7-day MA)')\n",
    "    plt.savefig(fname='new_images/'+new_date.strftime('%m-%d-%Y'))\n",
    "    plt.close()"
   ]
  },
  {
   "cell_type": "markdown",
   "metadata": {},
   "source": [
    "## Archived"
   ]
  },
  {
   "cell_type": "code",
   "execution_count": 261,
   "metadata": {
    "ExecuteTime": {
     "end_time": "2020-10-07T22:27:27.916691Z",
     "start_time": "2020-10-07T22:27:27.565583Z"
    }
   },
   "outputs": [
    {
     "name": "stdout",
     "output_type": "stream",
     "text": [
      "[-0.50666412 -0.292065   -0.0490076  ...  1.64075556  1.64328759\n",
      "  1.64328759]\n"
     ]
    }
   ],
   "source": [
    "# Visualize the distribution of county percentages infected\n",
    "flattened = np.array(combined.iloc[:, 15:]).flatten()\n",
    "flattened.sort()\n",
    "print(flattened)\n",
    "# Visualize the probabilities\n",
    "plt.hist(flattened, bins=200)\n",
    "# plt.ylim([0, 3000])\n",
    "plt.xlim([-0.1, 0.5])\n",
    "plt.ylim([0, 5000])\n",
    "plt.title('Histogram of log-transformed daily infection rates by county (as percentage of county population)')\n",
    "plt.show()"
   ]
  },
  {
   "cell_type": "code",
   "execution_count": 11,
   "metadata": {
    "scrolled": true
   },
   "outputs": [
    {
     "name": "stdout",
     "output_type": "stream",
     "text": [
      "      countyFIPS            County Name State  stateFIPS  population  1/23/20  \\\n",
      "0              0  Statewide Unallocated    AL          1           0      NaN   \n",
      "1           1001         Autauga County    AL          1       55869      0.0   \n",
      "2           1003         Baldwin County    AL          1      223234      0.0   \n",
      "3           1005         Barbour County    AL          1       24686      0.0   \n",
      "4           1007            Bibb County    AL          1       22394      0.0   \n",
      "...          ...                    ...   ...        ...         ...      ...   \n",
      "3190       56037      Sweetwater County    WY         56       42343      0.0   \n",
      "3191       56039           Teton County    WY         56       23464      0.0   \n",
      "3192       56041           Uinta County    WY         56       20226      0.0   \n",
      "3193       56043        Washakie County    WY         56        7805      0.0   \n",
      "3194       56045          Weston County    WY         56        6927      0.0   \n",
      "\n",
      "      1/24/20  1/25/20  1/26/20  1/27/20  ...   5/31/20    6/1/20    6/2/20  \\\n",
      "0         NaN      NaN      NaN      NaN  ...       NaN       NaN       NaN   \n",
      "1         0.0      0.0      0.0      0.0  ...  0.007160  0.023269  0.008950   \n",
      "2         0.0      0.0      0.0      0.0  ...  0.002240  0.001792  0.000000   \n",
      "3         0.0      0.0      0.0      0.0  ...  0.056712  0.032407  0.012153   \n",
      "4         0.0      0.0      0.0      0.0  ...  0.013396  0.004465  0.000000   \n",
      "...       ...      ...      ...      ...  ...       ...       ...       ...   \n",
      "3190      0.0      0.0      0.0      0.0  ...  0.007085  0.000000  0.000000   \n",
      "3191      0.0      0.0      0.0      0.0  ...  0.000000  0.000000  0.000000   \n",
      "3192      0.0      0.0      0.0      0.0  ...  0.000000  0.000000  0.004944   \n",
      "3193      0.0      0.0      0.0      0.0  ...  0.000000  0.012812  0.000000   \n",
      "3194      0.0      0.0      0.0      0.0  ...  0.000000  0.000000  0.000000   \n",
      "\n",
      "        6/3/20    6/4/20    6/5/20    6/6/20    6/7/20    6/8/20    6/9/20  \n",
      "0          NaN       NaN       NaN       NaN       NaN       NaN       NaN  \n",
      "1     0.001790  0.003580  0.012529  0.019689  0.010739  0.012529  0.017899  \n",
      "2     0.000000  0.000448  0.001344  0.003584  0.004032  0.003136  0.002240  \n",
      "3     0.008102  0.000000  0.024305  0.028356  0.012153  0.016204  0.008102  \n",
      "4     0.000000  0.000000  0.000000  0.004465  0.000000  0.008931  0.026793  \n",
      "...        ...       ...       ...       ...       ...       ...       ...  \n",
      "3190  0.002362  0.002362  0.000000  0.000000  0.000000  0.002362  0.002362  \n",
      "3191  0.000000  0.000000  0.000000  0.000000  0.000000  0.000000  0.000000  \n",
      "3192  0.000000  0.000000  0.029665  0.000000  0.019777  0.009888  0.049441  \n",
      "3193  0.000000  0.025625  0.000000  0.000000  0.000000  0.000000  0.000000  \n",
      "3194  0.000000  0.000000  0.000000  0.000000  0.000000  0.000000  0.000000  \n",
      "\n",
      "[3195 rows x 144 columns]\n"
     ]
    }
   ],
   "source": [
    "\"\"\" Make new dataframe with daily new cases as % of the county population\"\"\"\n",
    "daily_new_cases_df = data[['countyFIPS','County Name','State','stateFIPS','population']].copy()\n",
    "\n",
    "\"\"\" Loop to get the daily new cases by county\"\"\"\n",
    "day1 = datetime.date(month=1, day=22, year=2020)\n",
    "one_day = timedelta(days=1) # timedelta object representing 1-day increments\n",
    "today = day1\n",
    "tomorrow = today + one_day\n",
    "\n",
    "for ii in range((datetime.date.today()-day1).days-1):\n",
    "    # Subtract cumulative cases at d-1 from d\n",
    "    new_cases_today = data[format_date(tomorrow)].subtract(data[format_date(today)])\n",
    "    \n",
    "    # Convert it to percentage of county population\n",
    "    new_cases_today_pct = new_cases_today/data['population']*100\n",
    "    \n",
    "    # Increment both by one\n",
    "    today = tomorrow\n",
    "    tomorrow = today + one_day\n",
    "    daily_new_cases_df[format_date(today)] = new_cases_today_pct\n",
    "print(daily_new_cases_df)"
   ]
  },
  {
   "cell_type": "code",
   "execution_count": 92,
   "metadata": {
    "scrolled": true
   },
   "outputs": [
    {
     "name": "stdout",
     "output_type": "stream",
     "text": [
      "<class 'pandas.core.frame.DataFrame'>\n"
     ]
    },
    {
     "data": {
      "text/plain": [
       "<matplotlib.axes._subplots.AxesSubplot at 0x27a418a1c88>"
      ]
     },
     "execution_count": 92,
     "metadata": {},
     "output_type": "execute_result"
    },
    {
     "data": {
      "image/png": "[encoded data removed]",
      "text/plain": [
       "<Figure size 432x288 with 1 Axes>"
      ]
     },
     "metadata": {
      "needs_background": "light"
     },
     "output_type": "display_data"
    }
   ],
   "source": [
    "ny_cases = daily_new_cases_df.loc[daily_new_cases_df['County Name']=='New York County']\n",
    "print(type(ny_cases))\n",
    "ny_cases.iloc[0, 4:].plot()"
   ]
  },
  {
   "cell_type": "code",
   "execution_count": null,
   "metadata": {},
   "outputs": [],
   "source": [
    "\"\"\" Load the data \"\"\"\n",
    "data = pd.read_csv('https://usafactsstatic.blob.core.windows.net/public/data/covid-19/covid_confirmed_usafacts.csv')\n",
    "usa_map = gpd.read_file('misc/cb_2018_us_county_500k.shp')\n",
    "county_populations = pd.read_csv('https://usafactsstatic.blob.core.windows.net/public/data/covid-19/covid_county_population_usafacts.csv')\n",
    "# county_data = pd.read_csv('misc/2019_Gaz_counties_national.txt', sep='\\t')\n",
    "\n",
    "\"\"\" Add in county population data \"\"\"\n",
    "data['population'] = county_populations.pop('population')\n",
    "\n",
    "\"\"\" Drop a row in daily_new_cases_df if there isn't corresponding geolocation for that county in county_data \"\"\"\n",
    "for county_name in data['County Name'].unique():\n",
    "    if county_name not in county_data['NAME'].unique():\n",
    "#         print(county_name)\n",
    "        data.drop(data[data['County Name']==county_name].index, inplace=True)\n",
    "    \n",
    "\"\"\" Drop NaNs just in case (there shouldn't be any) \"\"\"\n",
    "data.dropna(inplace=True)"
   ]
  }
 ],
 "metadata": {
  "kernelspec": {
   "display_name": "Python 3",
   "language": "python",
   "name": "python3"
  },
  "language_info": {
   "codemirror_mode": {
    "name": "ipython",
    "version": 3
   },
   "file_extension": ".py",
   "mimetype": "text/x-python",
   "name": "python",
   "nbconvert_exporter": "python",
   "pygments_lexer": "ipython3",
   "version": "3.7.4"
  }
 },
 "nbformat": 4,
 "nbformat_minor": 2
}
